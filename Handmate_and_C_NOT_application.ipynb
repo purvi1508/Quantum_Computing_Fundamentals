{
  "nbformat": 4,
  "nbformat_minor": 0,
  "metadata": {
    "colab": {
      "provenance": []
    },
    "kernelspec": {
      "name": "python3",
      "display_name": "Python 3"
    },
    "language_info": {
      "name": "python"
    }
  },
  "cells": [
    {
      "cell_type": "code",
      "execution_count": 1,
      "metadata": {
        "colab": {
          "base_uri": "https://localhost:8080/"
        },
        "id": "dxKMre3IP6rP",
        "outputId": "f3dadcfc-cb89-4274-ab3e-ae164e90eed0"
      },
      "outputs": [
        {
          "output_type": "stream",
          "name": "stdout",
          "text": [
            "Looking in indexes: https://pypi.org/simple, https://us-python.pkg.dev/colab-wheels/public/simple/\n",
            "Requirement already satisfied: qiskit in /usr/local/lib/python3.10/dist-packages (0.43.1)\n",
            "Requirement already satisfied: qiskit-terra==0.24.1 in /usr/local/lib/python3.10/dist-packages (from qiskit) (0.24.1)\n",
            "Requirement already satisfied: qiskit-aer==0.12.0 in /usr/local/lib/python3.10/dist-packages (from qiskit) (0.12.0)\n",
            "Requirement already satisfied: qiskit-ibmq-provider==0.20.2 in /usr/local/lib/python3.10/dist-packages (from qiskit) (0.20.2)\n",
            "Requirement already satisfied: numpy>=1.16.3 in /usr/local/lib/python3.10/dist-packages (from qiskit-aer==0.12.0->qiskit) (1.22.4)\n",
            "Requirement already satisfied: scipy>=1.0 in /usr/local/lib/python3.10/dist-packages (from qiskit-aer==0.12.0->qiskit) (1.10.1)\n",
            "Requirement already satisfied: requests>=2.19 in /usr/local/lib/python3.10/dist-packages (from qiskit-ibmq-provider==0.20.2->qiskit) (2.27.1)\n",
            "Requirement already satisfied: requests-ntlm<=1.1.0 in /usr/local/lib/python3.10/dist-packages (from qiskit-ibmq-provider==0.20.2->qiskit) (1.1.0)\n",
            "Requirement already satisfied: urllib3>=1.21.1 in /usr/local/lib/python3.10/dist-packages (from qiskit-ibmq-provider==0.20.2->qiskit) (1.26.15)\n",
            "Requirement already satisfied: python-dateutil>=2.8.0 in /usr/local/lib/python3.10/dist-packages (from qiskit-ibmq-provider==0.20.2->qiskit) (2.8.2)\n",
            "Requirement already satisfied: websocket-client>=1.5.1 in /usr/local/lib/python3.10/dist-packages (from qiskit-ibmq-provider==0.20.2->qiskit) (1.5.1)\n",
            "Requirement already satisfied: websockets>=10.0 in /usr/local/lib/python3.10/dist-packages (from qiskit-ibmq-provider==0.20.2->qiskit) (11.0.3)\n",
            "Requirement already satisfied: rustworkx>=0.12.0 in /usr/local/lib/python3.10/dist-packages (from qiskit-terra==0.24.1->qiskit) (0.12.1)\n",
            "Requirement already satisfied: ply>=3.10 in /usr/local/lib/python3.10/dist-packages (from qiskit-terra==0.24.1->qiskit) (3.11)\n",
            "Requirement already satisfied: psutil>=5 in /usr/local/lib/python3.10/dist-packages (from qiskit-terra==0.24.1->qiskit) (5.9.5)\n",
            "Requirement already satisfied: sympy>=1.3 in /usr/local/lib/python3.10/dist-packages (from qiskit-terra==0.24.1->qiskit) (1.11.1)\n",
            "Requirement already satisfied: dill>=0.3 in /usr/local/lib/python3.10/dist-packages (from qiskit-terra==0.24.1->qiskit) (0.3.6)\n",
            "Requirement already satisfied: stevedore>=3.0.0 in /usr/local/lib/python3.10/dist-packages (from qiskit-terra==0.24.1->qiskit) (5.1.0)\n",
            "Requirement already satisfied: symengine<0.10,>=0.9 in /usr/local/lib/python3.10/dist-packages (from qiskit-terra==0.24.1->qiskit) (0.9.2)\n",
            "Requirement already satisfied: six>=1.5 in /usr/local/lib/python3.10/dist-packages (from python-dateutil>=2.8.0->qiskit-ibmq-provider==0.20.2->qiskit) (1.16.0)\n",
            "Requirement already satisfied: certifi>=2017.4.17 in /usr/local/lib/python3.10/dist-packages (from requests>=2.19->qiskit-ibmq-provider==0.20.2->qiskit) (2022.12.7)\n",
            "Requirement already satisfied: charset-normalizer~=2.0.0 in /usr/local/lib/python3.10/dist-packages (from requests>=2.19->qiskit-ibmq-provider==0.20.2->qiskit) (2.0.12)\n",
            "Requirement already satisfied: idna<4,>=2.5 in /usr/local/lib/python3.10/dist-packages (from requests>=2.19->qiskit-ibmq-provider==0.20.2->qiskit) (3.4)\n",
            "Requirement already satisfied: ntlm-auth>=1.0.2 in /usr/local/lib/python3.10/dist-packages (from requests-ntlm<=1.1.0->qiskit-ibmq-provider==0.20.2->qiskit) (1.5.0)\n",
            "Requirement already satisfied: cryptography>=1.3 in /usr/local/lib/python3.10/dist-packages (from requests-ntlm<=1.1.0->qiskit-ibmq-provider==0.20.2->qiskit) (40.0.2)\n",
            "Requirement already satisfied: pbr!=2.1.0,>=2.0.0 in /usr/local/lib/python3.10/dist-packages (from stevedore>=3.0.0->qiskit-terra==0.24.1->qiskit) (5.11.1)\n",
            "Requirement already satisfied: mpmath>=0.19 in /usr/local/lib/python3.10/dist-packages (from sympy>=1.3->qiskit-terra==0.24.1->qiskit) (1.3.0)\n",
            "Requirement already satisfied: cffi>=1.12 in /usr/local/lib/python3.10/dist-packages (from cryptography>=1.3->requests-ntlm<=1.1.0->qiskit-ibmq-provider==0.20.2->qiskit) (1.15.1)\n",
            "Requirement already satisfied: pycparser in /usr/local/lib/python3.10/dist-packages (from cffi>=1.12->cryptography>=1.3->requests-ntlm<=1.1.0->qiskit-ibmq-provider==0.20.2->qiskit) (2.21)\n"
          ]
        }
      ],
      "source": [
        "!pip install qiskit"
      ]
    },
    {
      "cell_type": "code",
      "source": [
        "!pip install pylatexenc"
      ],
      "metadata": {
        "colab": {
          "base_uri": "https://localhost:8080/"
        },
        "id": "ICX6KdD-P7b9",
        "outputId": "369be3f8-5f46-478e-fc9e-4292d7561d9d"
      },
      "execution_count": 2,
      "outputs": [
        {
          "output_type": "stream",
          "name": "stdout",
          "text": [
            "Looking in indexes: https://pypi.org/simple, https://us-python.pkg.dev/colab-wheels/public/simple/\n",
            "Requirement already satisfied: pylatexenc in /usr/local/lib/python3.10/dist-packages (2.10)\n"
          ]
        }
      ]
    },
    {
      "cell_type": "code",
      "source": [
        "import qiskit\n",
        "import pylatexenc"
      ],
      "metadata": {
        "id": "o5uXKQtuP9Vn"
      },
      "execution_count": 3,
      "outputs": []
    },
    {
      "cell_type": "code",
      "source": [
        "from qiskit import *\n",
        "from pylatexenc import *"
      ],
      "metadata": {
        "id": "otvS4nmxP-z9"
      },
      "execution_count": 4,
      "outputs": []
    },
    {
      "cell_type": "code",
      "source": [
        "# Create a quantum circuit with three qubits\n",
        "qc = QuantumCircuit(3, 3)"
      ],
      "metadata": {
        "id": "e8BrzgGeQADo"
      },
      "execution_count": 5,
      "outputs": []
    },
    {
      "cell_type": "code",
      "source": [
        "%matplotlib inline"
      ],
      "metadata": {
        "id": "g7WzRtFrQGYh"
      },
      "execution_count": 6,
      "outputs": []
    },
    {
      "cell_type": "code",
      "source": [
        "qc.draw(initial_state = True)"
      ],
      "metadata": {
        "colab": {
          "base_uri": "https://localhost:8080/",
          "height": 156
        },
        "id": "QDs1YA2YQMDf",
        "outputId": "9fb34c2d-a587-450c-eb90-0de4f9def659"
      },
      "execution_count": 7,
      "outputs": [
        {
          "output_type": "execute_result",
          "data": {
            "text/plain": [
              "        \n",
              "q_0: |0>\n",
              "        \n",
              "q_1: |0>\n",
              "        \n",
              "q_2: |0>\n",
              "        \n",
              " c: 0 3/\n",
              "        "
            ],
            "text/html": [
              "<pre style=\"word-wrap: normal;white-space: pre;background: #fff0;line-height: 1.1;font-family: &quot;Courier New&quot;,Courier,monospace\">        \n",
              "q_0: |0>\n",
              "        \n",
              "q_1: |0>\n",
              "        \n",
              "q_2: |0>\n",
              "        \n",
              " c: 0 3/\n",
              "        </pre>"
            ]
          },
          "metadata": {},
          "execution_count": 7
        }
      ]
    },
    {
      "cell_type": "code",
      "source": [
        "# Create a Bell pair between qubits 1 and 2\n",
        "qc.h(1)\n",
        "qc.cx(1, 2)\n",
        "# The Hadamard gate qc.h(1) is applied to qubit 1 to create a superposition, and the CNOT gate qc.cx(1, 2) is applied between qubits 1 and 2 to entangle them and create a Bell pair"
      ],
      "metadata": {
        "colab": {
          "base_uri": "https://localhost:8080/"
        },
        "id": "bsSPswekQNz1",
        "outputId": "a4ea95f2-7c18-479a-d609-c97ee7689489"
      },
      "execution_count": 8,
      "outputs": [
        {
          "output_type": "execute_result",
          "data": {
            "text/plain": [
              "<qiskit.circuit.instructionset.InstructionSet at 0x7f8ed4a6f5e0>"
            ]
          },
          "metadata": {},
          "execution_count": 8
        }
      ]
    },
    {
      "cell_type": "code",
      "source": [
        "qc.draw(initial_state = True)"
      ],
      "metadata": {
        "colab": {
          "base_uri": "https://localhost:8080/",
          "height": 156
        },
        "id": "T9wM6tgTQV8E",
        "outputId": "ea81734b-c98b-4f88-ae90-b7c0cf8fe3ff"
      },
      "execution_count": 9,
      "outputs": [
        {
          "output_type": "execute_result",
          "data": {
            "text/plain": [
              "                  \n",
              "q_0: |0>──────────\n",
              "        ┌───┐     \n",
              "q_1: |0>┤ H ├──■──\n",
              "        └───┘┌─┴─┐\n",
              "q_2: |0>─────┤ X ├\n",
              "             └───┘\n",
              " c: 0 3/══════════\n",
              "                  "
            ],
            "text/html": [
              "<pre style=\"word-wrap: normal;white-space: pre;background: #fff0;line-height: 1.1;font-family: &quot;Courier New&quot;,Courier,monospace\">                  \n",
              "q_0: |0>──────────\n",
              "        ┌───┐     \n",
              "q_1: |0>┤ H ├──■──\n",
              "        └───┘┌─┴─┐\n",
              "q_2: |0>─────┤ X ├\n",
              "             └───┘\n",
              " c: 0 3/══════════\n",
              "                  </pre>"
            ]
          },
          "metadata": {},
          "execution_count": 9
        }
      ]
    },
    {
      "cell_type": "code",
      "source": [
        "# Entangle qubit 0 with qubit 1\n",
        "qc.cx(0, 1)\n",
        "qc.h(0)"
      ],
      "metadata": {
        "colab": {
          "base_uri": "https://localhost:8080/"
        },
        "id": "-r7cfEoFQXf5",
        "outputId": "7486feb7-f267-426f-e714-aad3fa068fe3"
      },
      "execution_count": 10,
      "outputs": [
        {
          "output_type": "execute_result",
          "data": {
            "text/plain": [
              "<qiskit.circuit.instructionset.InstructionSet at 0x7f8ed4a6e2f0>"
            ]
          },
          "metadata": {},
          "execution_count": 10
        }
      ]
    },
    {
      "cell_type": "code",
      "source": [
        "qc.draw(initial_state = True)"
      ],
      "metadata": {
        "colab": {
          "base_uri": "https://localhost:8080/",
          "height": 156
        },
        "id": "2N-G6GYwQ8J-",
        "outputId": "24106119-9f0a-430a-eae8-61914f1416ea"
      },
      "execution_count": 11,
      "outputs": [
        {
          "output_type": "execute_result",
          "data": {
            "text/plain": [
              "                       ┌───┐\n",
              "q_0: |0>────────────■──┤ H ├\n",
              "        ┌───┐     ┌─┴─┐└───┘\n",
              "q_1: |0>┤ H ├──■──┤ X ├─────\n",
              "        └───┘┌─┴─┐└───┘     \n",
              "q_2: |0>─────┤ X ├──────────\n",
              "             └───┘          \n",
              " c: 0 3/════════════════════\n",
              "                            "
            ],
            "text/html": [
              "<pre style=\"word-wrap: normal;white-space: pre;background: #fff0;line-height: 1.1;font-family: &quot;Courier New&quot;,Courier,monospace\">                       ┌───┐\n",
              "q_0: |0>────────────■──┤ H ├\n",
              "        ┌───┐     ┌─┴─┐└───┘\n",
              "q_1: |0>┤ H ├──■──┤ X ├─────\n",
              "        └───┘┌─┴─┐└───┘     \n",
              "q_2: |0>─────┤ X ├──────────\n",
              "             └───┘          \n",
              " c: 0 3/════════════════════\n",
              "                            </pre>"
            ]
          },
          "metadata": {},
          "execution_count": 11
        }
      ]
    },
    {
      "cell_type": "code",
      "source": [
        "# Apply a measurement to qubits 0 and 1\n",
        "qc.barrier()\n",
        "qc.measure([0,1], [0,1])"
      ],
      "metadata": {
        "colab": {
          "base_uri": "https://localhost:8080/"
        },
        "id": "xwizUcMNRAb1",
        "outputId": "38d57d62-41f3-4ce2-8a87-8397d9589b31"
      },
      "execution_count": 12,
      "outputs": [
        {
          "output_type": "execute_result",
          "data": {
            "text/plain": [
              "<qiskit.circuit.instructionset.InstructionSet at 0x7f8ea4d6b100>"
            ]
          },
          "metadata": {},
          "execution_count": 12
        }
      ]
    },
    {
      "cell_type": "code",
      "source": [
        "qc.draw(initial_state = True)"
      ],
      "metadata": {
        "colab": {
          "base_uri": "https://localhost:8080/",
          "height": 156
        },
        "id": "ZVeAvG2BRFo8",
        "outputId": "373462d9-3e14-4a5a-b789-971a5515e99b"
      },
      "execution_count": 13,
      "outputs": [
        {
          "output_type": "execute_result",
          "data": {
            "text/plain": [
              "                       ┌───┐ ░ ┌─┐   \n",
              "q_0: |0>────────────■──┤ H ├─░─┤M├───\n",
              "        ┌───┐     ┌─┴─┐└───┘ ░ └╥┘┌─┐\n",
              "q_1: |0>┤ H ├──■──┤ X ├──────░──╫─┤M├\n",
              "        └───┘┌─┴─┐└───┘      ░  ║ └╥┘\n",
              "q_2: |0>─────┤ X ├───────────░──╫──╫─\n",
              "             └───┘           ░  ║  ║ \n",
              " c: 0 3/════════════════════════╩══╩═\n",
              "                                0  1 "
            ],
            "text/html": [
              "<pre style=\"word-wrap: normal;white-space: pre;background: #fff0;line-height: 1.1;font-family: &quot;Courier New&quot;,Courier,monospace\">                       ┌───┐ ░ ┌─┐   \n",
              "q_0: |0>────────────■──┤ H ├─░─┤M├───\n",
              "        ┌───┐     ┌─┴─┐└───┘ ░ └╥┘┌─┐\n",
              "q_1: |0>┤ H ├──■──┤ X ├──────░──╫─┤M├\n",
              "        └───┘┌─┴─┐└───┘      ░  ║ └╥┘\n",
              "q_2: |0>─────┤ X ├───────────░──╫──╫─\n",
              "             └───┘           ░  ║  ║ \n",
              " c: 0 3/════════════════════════╩══╩═\n",
              "                                0  1 </pre>"
            ]
          },
          "metadata": {},
          "execution_count": 13
        }
      ]
    },
    {
      "cell_type": "code",
      "source": [
        "# Apply a controlled-X gate to qubits 1 and 2\n",
        "qc.cx(1, 2)"
      ],
      "metadata": {
        "colab": {
          "base_uri": "https://localhost:8080/"
        },
        "id": "_Vq2t3vnRHu7",
        "outputId": "ded3ae1f-1548-45af-acc3-0ba611da6300"
      },
      "execution_count": 14,
      "outputs": [
        {
          "output_type": "execute_result",
          "data": {
            "text/plain": [
              "<qiskit.circuit.instructionset.InstructionSet at 0x7f8ed4a6e890>"
            ]
          },
          "metadata": {},
          "execution_count": 14
        }
      ]
    },
    {
      "cell_type": "code",
      "source": [
        "qc.draw(initial_state = True)"
      ],
      "metadata": {
        "colab": {
          "base_uri": "https://localhost:8080/",
          "height": 156
        },
        "id": "kBkY9GlQRMze",
        "outputId": "2a34a767-38ff-4eb8-b50a-e55d8659d765"
      },
      "execution_count": 15,
      "outputs": [
        {
          "output_type": "execute_result",
          "data": {
            "text/plain": [
              "                       ┌───┐ ░ ┌─┐        \n",
              "q_0: |0>────────────■──┤ H ├─░─┤M├────────\n",
              "        ┌───┐     ┌─┴─┐└───┘ ░ └╥┘┌─┐     \n",
              "q_1: |0>┤ H ├──■──┤ X ├──────░──╫─┤M├──■──\n",
              "        └───┘┌─┴─┐└───┘      ░  ║ └╥┘┌─┴─┐\n",
              "q_2: |0>─────┤ X ├───────────░──╫──╫─┤ X ├\n",
              "             └───┘           ░  ║  ║ └───┘\n",
              " c: 0 3/════════════════════════╩══╩══════\n",
              "                                0  1      "
            ],
            "text/html": [
              "<pre style=\"word-wrap: normal;white-space: pre;background: #fff0;line-height: 1.1;font-family: &quot;Courier New&quot;,Courier,monospace\">                       ┌───┐ ░ ┌─┐        \n",
              "q_0: |0>────────────■──┤ H ├─░─┤M├────────\n",
              "        ┌───┐     ┌─┴─┐└───┘ ░ └╥┘┌─┐     \n",
              "q_1: |0>┤ H ├──■──┤ X ├──────░──╫─┤M├──■──\n",
              "        └───┘┌─┴─┐└───┘      ░  ║ └╥┘┌─┴─┐\n",
              "q_2: |0>─────┤ X ├───────────░──╫──╫─┤ X ├\n",
              "             └───┘           ░  ║  ║ └───┘\n",
              " c: 0 3/════════════════════════╩══╩══════\n",
              "                                0  1      </pre>"
            ]
          },
          "metadata": {},
          "execution_count": 15
        }
      ]
    },
    {
      "cell_type": "code",
      "source": [
        "# Apply a controlled-Z gate to qubits 0 and 2\n",
        "qc.cz(0, 2)"
      ],
      "metadata": {
        "colab": {
          "base_uri": "https://localhost:8080/"
        },
        "id": "tSwxZPyLROQi",
        "outputId": "fc7b8dc8-2535-4917-96e5-9a14a5a77274"
      },
      "execution_count": 16,
      "outputs": [
        {
          "output_type": "execute_result",
          "data": {
            "text/plain": [
              "<qiskit.circuit.instructionset.InstructionSet at 0x7f8ea4c68ac0>"
            ]
          },
          "metadata": {},
          "execution_count": 16
        }
      ]
    },
    {
      "cell_type": "code",
      "source": [
        "qc.draw(initial_state = True)"
      ],
      "metadata": {
        "colab": {
          "base_uri": "https://localhost:8080/",
          "height": 156
        },
        "id": "neTREaEcRQd5",
        "outputId": "1a140b3f-b8ae-41c3-f4f1-5f430932d1e9"
      },
      "execution_count": 18,
      "outputs": [
        {
          "output_type": "execute_result",
          "data": {
            "text/plain": [
              "                       ┌───┐ ░ ┌─┐           \n",
              "q_0: |0>────────────■──┤ H ├─░─┤M├─────────■─\n",
              "        ┌───┐     ┌─┴─┐└───┘ ░ └╥┘┌─┐      │ \n",
              "q_1: |0>┤ H ├──■──┤ X ├──────░──╫─┤M├──■───┼─\n",
              "        └───┘┌─┴─┐└───┘      ░  ║ └╥┘┌─┴─┐ │ \n",
              "q_2: |0>─────┤ X ├───────────░──╫──╫─┤ X ├─■─\n",
              "             └───┘           ░  ║  ║ └───┘   \n",
              " c: 0 3/════════════════════════╩══╩═════════\n",
              "                                0  1         "
            ],
            "text/html": [
              "<pre style=\"word-wrap: normal;white-space: pre;background: #fff0;line-height: 1.1;font-family: &quot;Courier New&quot;,Courier,monospace\">                       ┌───┐ ░ ┌─┐           \n",
              "q_0: |0>────────────■──┤ H ├─░─┤M├─────────■─\n",
              "        ┌───┐     ┌─┴─┐└───┘ ░ └╥┘┌─┐      │ \n",
              "q_1: |0>┤ H ├──■──┤ X ├──────░──╫─┤M├──■───┼─\n",
              "        └───┘┌─┴─┐└───┘      ░  ║ └╥┘┌─┴─┐ │ \n",
              "q_2: |0>─────┤ X ├───────────░──╫──╫─┤ X ├─■─\n",
              "             └───┘           ░  ║  ║ └───┘   \n",
              " c: 0 3/════════════════════════╩══╩═════════\n",
              "                                0  1         </pre>"
            ]
          },
          "metadata": {},
          "execution_count": 18
        }
      ]
    },
    {
      "cell_type": "code",
      "source": [
        "# Apply a measurement to qubit 2\n",
        "qc.measure(2, 2)\n"
      ],
      "metadata": {
        "colab": {
          "base_uri": "https://localhost:8080/"
        },
        "id": "G_vJXrjnRR2L",
        "outputId": "0be007e6-df98-4004-9e34-4475dd1d054d"
      },
      "execution_count": 19,
      "outputs": [
        {
          "output_type": "execute_result",
          "data": {
            "text/plain": [
              "<qiskit.circuit.instructionset.InstructionSet at 0x7f8ea4c695a0>"
            ]
          },
          "metadata": {},
          "execution_count": 19
        }
      ]
    },
    {
      "cell_type": "code",
      "source": [
        "qc.draw(initial_state = True)"
      ],
      "metadata": {
        "colab": {
          "base_uri": "https://localhost:8080/",
          "height": 156
        },
        "id": "4SuEh-pGRVaL",
        "outputId": "946c8b18-9f37-4a6c-9ea1-6d15557b3c7d"
      },
      "execution_count": 20,
      "outputs": [
        {
          "output_type": "execute_result",
          "data": {
            "text/plain": [
              "                       ┌───┐ ░ ┌─┐              \n",
              "q_0: |0>────────────■──┤ H ├─░─┤M├─────────■────\n",
              "        ┌───┐     ┌─┴─┐└───┘ ░ └╥┘┌─┐      │    \n",
              "q_1: |0>┤ H ├──■──┤ X ├──────░──╫─┤M├──■───┼────\n",
              "        └───┘┌─┴─┐└───┘      ░  ║ └╥┘┌─┴─┐ │ ┌─┐\n",
              "q_2: |0>─────┤ X ├───────────░──╫──╫─┤ X ├─■─┤M├\n",
              "             └───┘           ░  ║  ║ └───┘   └╥┘\n",
              " c: 0 3/════════════════════════╩══╩══════════╩═\n",
              "                                0  1          2 "
            ],
            "text/html": [
              "<pre style=\"word-wrap: normal;white-space: pre;background: #fff0;line-height: 1.1;font-family: &quot;Courier New&quot;,Courier,monospace\">                       ┌───┐ ░ ┌─┐              \n",
              "q_0: |0>────────────■──┤ H ├─░─┤M├─────────■────\n",
              "        ┌───┐     ┌─┴─┐└───┘ ░ └╥┘┌─┐      │    \n",
              "q_1: |0>┤ H ├──■──┤ X ├──────░──╫─┤M├──■───┼────\n",
              "        └───┘┌─┴─┐└───┘      ░  ║ └╥┘┌─┴─┐ │ ┌─┐\n",
              "q_2: |0>─────┤ X ├───────────░──╫──╫─┤ X ├─■─┤M├\n",
              "             └───┘           ░  ║  ║ └───┘   └╥┘\n",
              " c: 0 3/════════════════════════╩══╩══════════╩═\n",
              "                                0  1          2 </pre>"
            ]
          },
          "metadata": {},
          "execution_count": 20
        }
      ]
    },
    {
      "cell_type": "code",
      "source": [
        "\n",
        "# Run the circuit on a simulator\n",
        "backend = Aer.get_backend('qasm_simulator')\n",
        "result = execute(qc, backend).result()"
      ],
      "metadata": {
        "id": "NkFHu3erRXFi"
      },
      "execution_count": 21,
      "outputs": []
    },
    {
      "cell_type": "code",
      "source": [
        "# Print the result\n",
        "print(result.get_counts(qc))"
      ],
      "metadata": {
        "colab": {
          "base_uri": "https://localhost:8080/"
        },
        "id": "uKywhirERZAV",
        "outputId": "631fd872-8b03-434a-ebe5-fe7d682be729"
      },
      "execution_count": 22,
      "outputs": [
        {
          "output_type": "stream",
          "name": "stdout",
          "text": [
            "{'000': 242, '010': 247, '001': 275, '011': 260}\n"
          ]
        }
      ]
    },
    {
      "cell_type": "code",
      "source": [],
      "metadata": {
        "id": "ey1p6sSyRayM"
      },
      "execution_count": null,
      "outputs": []
    }
  ]
}